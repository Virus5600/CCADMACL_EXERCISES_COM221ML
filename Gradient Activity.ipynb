{
 "cells": [
  {
   "cell_type": "markdown",
   "metadata": {},
   "source": [
    "# Variable Declaration\n",
    "\n",
    "Declares all the variables in this section."
   ]
  },
  {
   "cell_type": "markdown",
   "metadata": {},
   "source": [
    "## Base Variables\n",
    "\n",
    "All base variables are declared here.\n",
    "\n",
    "For now, the relevant variable(s) declared in this section are:\n",
    "- `final`: The finals grade of a student. **The value to predict.**\n",
    "- `avgFinal`: The average of all the `finals` combined. ($A=\\frac{1}{n} \\sum \\limits_{i=1} ^{n} a_i$)\n",
    "- `lr`: The **Learning Rate** constant."
   ]
  },
  {
   "cell_type": "code",
   "execution_count": 7,
   "metadata": {},
   "outputs": [
    {
     "name": "stdout",
     "output_type": "stream",
     "text": [
      "[75.7, 75.7, 75.7, 75.7, 75.7, 75.7, 75.7, 75.7, 75.7, 75.7]\n"
     ]
    }
   ],
   "source": [
    "midterm = [70, 80, 60, 90, 50, 85, 65, 75, 55, 95]\n",
    "hours = [15, 10, 8, 20, 5, 18, 9, 14, 6, 22]\n",
    "attendance = [85, 90, 75, 95, 60, 92, 80, 88, 65, 50]\n",
    "final = [78, 82, 64, 92, 55, 88, 70, 76, 58, 94]\n",
    "\n",
    "lr = 0.1\n",
    "# lr = 0.5\n",
    "\n",
    "avgFinal = []\n",
    "summation = 0\n",
    "\n",
    "count = len(final)\n",
    "\n",
    "for i in range(count):\n",
    "    summation += final[i]\n",
    "avg = summation / count\n",
    "for i in range(count):\n",
    "    avgFinal.append(avg)\n",
    "    \n",
    "print(avgFinal)"
   ]
  },
  {
   "cell_type": "markdown",
   "metadata": {},
   "source": [
    "## Pseudo Residual\n",
    "\n",
    "~~The pseudo residual scores. This is only a temporary value fetched by subtracting the `avgFinal` from the `final` ($final_n - avgFinal_n$)~~\n",
    "\n",
    "~~The value in `psuedoResidual` will be updated once the tree is completed.~~\n",
    "\n",
    "`pseudoResidual` is calculated using this tree:"
   ]
  },
  {
   "cell_type": "markdown",
   "metadata": {},
   "source": [
    "<style>\n",
    "\t/*Now the CSS*/\n",
    "* {margin: 0; padding: 0;}\n",
    "\n",
    ".tree ul {\n",
    "\tpadding-top: 20px; position: relative;\n",
    "\t\n",
    "\ttransition: all 0.5s;\n",
    "\t-webkit-transition: all 0.5s;\n",
    "\t-moz-transition: all 0.5s;\n",
    "}\n",
    "\n",
    ".tree li {\n",
    "\ttransform: translateX(17px);\n",
    "\tfloat: left; text-align: center;\n",
    "\tlist-style-type: none;\n",
    "\tposition: relative;\n",
    "\tpadding: 20px 5px 0 5px;\n",
    "\t\n",
    "\ttransition: all 0.5s;\n",
    "\t-webkit-transition: all 0.5s;\n",
    "\t-moz-transition: all 0.5s;\n",
    "}\n",
    "\n",
    "/*We will use ::before and ::after to draw the connectors*/\n",
    "\n",
    ".tree li::before, .tree li::after{\n",
    "\tcontent: '';\n",
    "\tposition: absolute; top: 0; right: 50%;\n",
    "\tborder-top: 1px solid #ccc;\n",
    "\twidth: 50%; height: 20px;\n",
    "}\n",
    ".tree li::after{\n",
    "\tright: auto; left: 50%;\n",
    "\tborder-left: 1px solid #ccc;\n",
    "}\n",
    "\n",
    "/*We need to remove left-right connectors from elements without \n",
    "any siblings*/\n",
    ".tree li:only-child::after, .tree li:only-child::before {\n",
    "\tdisplay: none;\n",
    "}\n",
    "\n",
    "/*Remove space from the top of single children*/\n",
    ".tree li:only-child{ padding-top: 0;}\n",
    "\n",
    "/*Remove left connector from first child and \n",
    "right connector from last child*/\n",
    ".tree li:first-child::before, .tree li:last-child::after{\n",
    "\tborder: 0 none;\n",
    "}\n",
    "/*Adding back the vertical connector to the last nodes*/\n",
    ".tree li:last-child::before{\n",
    "\tborder-right: 1px solid #ccc;\n",
    "\tborder-radius: 0 5px 0 0;\n",
    "\t-webkit-border-radius: 0 5px 0 0;\n",
    "\t-moz-border-radius: 0 5px 0 0;\n",
    "}\n",
    ".tree li:first-child::after{\n",
    "\tborder-radius: 5px 0 0 0;\n",
    "\t-webkit-border-radius: 5px 0 0 0;\n",
    "\t-moz-border-radius: 5px 0 0 0;\n",
    "}\n",
    "\n",
    "/*Time to add downward connectors from parents*/\n",
    ".tree ul ul::before{\n",
    "\tcontent: '';\n",
    "\tposition: absolute; top: 0; left: 50%;\n",
    "\tborder-left: 1px solid #ccc;\n",
    "\twidth: 0; height: 20px;\n",
    "}\n",
    "\n",
    ".tree li span{\n",
    "\tborder: 1px solid #ccc;\n",
    "\tpadding: 5px 10px;\n",
    "\ttext-decoration: none;\n",
    "\tcolor: #666;\n",
    "\tfont-family: arial, verdana, tahoma;\n",
    "\tfont-size: 1em;\n",
    "\tdisplay: inline-block;\n",
    "\tcursor: pointer;\n",
    "\tbackground-color: white;\n",
    "\t\n",
    "\tborder-radius: 5px;\n",
    "\t-webkit-border-radius: 5px;\n",
    "\t-moz-border-radius: 5px;\n",
    "\t\n",
    "\ttransition: all 0.5s;\n",
    "\t-webkit-transition: all 0.5s;\n",
    "\t-moz-transition: all 0.5s;\n",
    "}\n",
    "\n",
    "/*Time for some hover effects*/\n",
    "/*We will apply the hover effect the the lineage of the element also*/\n",
    ".tree li span:hover, .tree li span:hover+ul li span {\n",
    "\tbackground: #c8e4f8; color: #000; border: 1px solid #94a0b4;\n",
    "}\n",
    "/*Connector styles on hover*/\n",
    ".tree li span:hover+ul li::after, \n",
    ".tree li span:hover+ul li::before, \n",
    ".tree li span:hover+ul::before, \n",
    ".tree li span:hover+ul ul::before{\n",
    "\tborder-color:  #94a0b4;\n",
    "}\n",
    "</style>\n",
    "\n",
    "<div class=\"tree\">\n",
    "\t<ul>\n",
    "\t\t<li>\n",
    "\t\t\t<span>Midterm > 70</span>\n",
    "\t\t\t<ul>\n",
    "\t\t\t\t<li>\n",
    "\t\t\t\t\t<span>Hours > 14</span>\n",
    "\t\t\t\t\t<ul>\n",
    "\t\t\t\t\t\t<li><span>0</span></li>\n",
    "\t\t\t\t\t\t<li><span>1</span></li>\n",
    "\t\t\t\t\t</ul>\n",
    "\t\t\t\t</li>\n",
    "\t\t\t\t<li>\n",
    "\t\t\t\t\t<span>Attendance > 70</span>\n",
    "\t\t\t\t\t<ul>\n",
    "\t\t\t\t\t\t<li><span>2</span></li>\n",
    "\t\t\t\t\t\t<li><span>3</span></li>\n",
    "\t\t\t\t\t</ul>\n",
    "\t\t\t\t</li>\n",
    "\t\t\t</ul>\n",
    "\t\t</li>\n",
    "\t</ul>\n",
    "</div>"
   ]
  },
  {
   "cell_type": "markdown",
   "metadata": {},
   "source": [
    "The `treeCondition` function determines the leaf node index based on the current function's conditional statements based on a derived tree. Currently, the tree it is following is\n",
    "shown above.\n",
    "\n",
    "See the function's documentation for more information."
   ]
  },
  {
   "cell_type": "code",
   "execution_count": 8,
   "metadata": {},
   "outputs": [],
   "source": [
    "def treeCondition(m:int|float, h:int|float, a:int|float) -> int:\n",
    "\t\"\"\"\n",
    "\tReturns the leaf node index based on the given values. The conditions\n",
    "\tin this function are changeable and can be modified to fit the\n",
    "\tneeds of the user.\n",
    " \n",
    "\tChanges must also be reflected in this function's documentation for others to see.\n",
    " \n",
    "\t## Current Tree:\n",
    "\t- If `m` is greater than 70:\n",
    "\t\t- If `h` is greater than 14:\n",
    "\t\t\t- Return 0\n",
    "\t\t- Else:\n",
    "\t\t\t- Return 1\n",
    "\t- Else:\n",
    "\t\t- If `a` is greater than 70:\n",
    "\t\t\t- Return 2\n",
    "\t\t- Else:\n",
    "\t\t\t- Return 3\n",
    "\n",
    "\t:param m: The midterm grade of the student.\n",
    "\t:type m: int | float\n",
    " \n",
    "\t:param h: The number of hours the student studied.\n",
    "\t:type h: int | float\n",
    " \n",
    "\t:param a: The attendance percentage of the student.\n",
    "\t:type a: int | float\n",
    " \n",
    "\t:return int: The leaf node index.\n",
    "\t\"\"\"\n",
    "\tif (m > 70):\n",
    "\t\tif (h > 14):\n",
    "\t\t\treturn 0\n",
    "\t\telse:\n",
    "\t\t\treturn 1\n",
    "\telse:\n",
    "\t\tif (a > 70):\n",
    "\t\t\treturn 2\n",
    "\t\telse:\n",
    "\t\t\treturn 3\n"
   ]
  },
  {
   "cell_type": "code",
   "execution_count": null,
   "metadata": {},
   "outputs": [
    {
     "data": {
      "text/plain": [
       "[15.63, 3.3, -5.03, -19.2]"
      ]
     },
     "execution_count": 9,
     "metadata": {},
     "output_type": "execute_result"
    }
   ],
   "source": [
    "psuedoResidualTree = [0, 0, 0, 0]\n",
    "added = [0, 0, 0, 0]\n",
    "\n",
    "for i in range(len(avgFinal)):\n",
    "\tpr = final[i] - avgFinal[i]\n",
    "\tindex = treeCondition(midterm[i], hours[i], attendance[i])\n",
    "\n",
    "\tpsuedoResidualTree[index] += round(pr, 2)\n",
    "\tadded[index] += 1\n",
    "\n",
    "for i in range(len(psuedoResidualTree)):\n",
    "\tpsuedoResidualTree[i] = round(psuedoResidualTree[i] / added[i], 2)\n",
    "\n",
    "psuedoResidualTree"
   ]
  },
  {
   "cell_type": "markdown",
   "metadata": {},
   "source": [
    "This is the old Pseudo Residual calculated without the tree. ($PR$)"
   ]
  },
  {
   "cell_type": "code",
   "execution_count": 10,
   "metadata": {},
   "outputs": [
    {
     "data": {
      "text/plain": [
       "[2.3, 6.3, -11.7, 16.3, -20.7, 12.3, -5.7, 0.3, -17.7, 18.3]"
      ]
     },
     "execution_count": 10,
     "metadata": {},
     "output_type": "execute_result"
    }
   ],
   "source": [
    "initialPsuedoResidual = []\n",
    "\n",
    "for i in range(len(avgFinal)):\n",
    "\tpr = final[i] - avgFinal[i]\n",
    "\tinitialPsuedoResidual.append(round(pr, 2))\n",
    "\n",
    "initialPsuedoResidual"
   ]
  },
  {
   "cell_type": "markdown",
   "metadata": {},
   "source": [
    "Then this is the new Pseudo Residual based on the tree. ($PR_{DT}$)"
   ]
  },
  {
   "cell_type": "code",
   "execution_count": 11,
   "metadata": {},
   "outputs": [
    {
     "data": {
      "text/plain": [
       "[-5.03, 3.3, -5.03, 15.63, -19.2, 15.63, -5.03, 3.3, -19.2, 15.63]"
      ]
     },
     "execution_count": 11,
     "metadata": {},
     "output_type": "execute_result"
    }
   ],
   "source": [
    "psuedoResidual = []\n",
    "\n",
    "for i in range(count):\n",
    "\tindex = treeCondition(midterm[i], hours[i], attendance[i])\n",
    "\tpr = psuedoResidualTree[index]\n",
    "\tpsuedoResidual.append(pr)\n",
    "\n",
    "psuedoResidual"
   ]
  },
  {
   "cell_type": "markdown",
   "metadata": {},
   "source": [
    "# Function Declaration\n",
    "\n",
    "Declare commonly used functions here.\n",
    "\n",
    "For more information regarding the functions, please refer to their own respective documentation.\n",
    "\n",
    "Current functions:\n",
    "- `R1`: Fetches the $R_1$ using the formula $[finals_n - (avgFinals_n + (learningRate \\times pseudoResidual_n))]$.\n",
    "- `RN`: Fetches the $R_{n > 1}$ using the formula $[R_{n-1} - (learningRate \\times R_{n-1})]$.\n",
    "- `predict`: Calculates the predicted value based on the `base` and `residual` using the formula $[base + (learningRate \\times residual)]$."
   ]
  },
  {
   "cell_type": "code",
   "execution_count": 12,
   "metadata": {},
   "outputs": [],
   "source": [
    "def R1(fin:float, avg:float, pr:float, roundTo:int = 2, debug:bool = False) -> float:\n",
    "\t\"\"\"\n",
    "\tCalculates the R₁ by providing the `fin`, `avg` and `pr`. This\n",
    "\tfunction strictly calculates only the R₁ value and nothing else.\n",
    "\n",
    "\t:param fin: The final grade of the student.\n",
    "\t:type fin: float\n",
    " \n",
    "\t:param avg: The average of the final grades of all students.\n",
    "\t:type avg: float\n",
    " \n",
    "\t:param pr: The pseudo residual of the student.\n",
    "\t:type pr: float\n",
    " \n",
    "\t:param roundTo: The number of decimal places to round the result to. Default is `2`.\n",
    "\t:type roundTo: int\n",
    " \n",
    "\t:param debug: If set to True, the function will print the values of `fin`, `avg` and `pr`. Default is `False`.\n",
    "\t:type debug: bool\n",
    " \n",
    "\t:return float: The R₁ value of the student.\n",
    " \t\"\"\"\n",
    "\tif debug:\n",
    "\t\tprint(f\"fin: {fin} | avg: {avg} | lr: {lr} | pr: {pr}\")\n",
    " \n",
    "\treturn round(fin - (avg + (lr * pr)), roundTo)\n",
    "\n",
    "def RN(prevR:float, lr:float, roundTo:int = 2, debug:bool = False) -> float:\n",
    "\t\"\"\"\n",
    "\tCalculates the Rₙ by providing the `prevR` and `lr`. This function calculates\n",
    "\tany succeeding residual value after the first one. For the first residual value,\n",
    "\tuse the `R1` function.\n",
    " \n",
    "\t:param prevR: The previous residual value.\n",
    "\t:type prevR: float\n",
    " \n",
    "\t:param lr: The learning rate.\n",
    "\t:type lr: float\n",
    " \n",
    "\t:param roundTo: The number of decimal places to round the result to. Default is `2`.\n",
    "\t:type roundTo: int\n",
    " \n",
    "\t:param debug: If set to True, the function will print the values of `prevR` and `lr`. Default is `False`.\n",
    "\t:type debug: bool\n",
    " \n",
    "\t:return float: The Rₙ value of the student.\n",
    "\t\"\"\"\n",
    "\tif debug:\n",
    "\t\tprint(f\"prevR: {prevR}\")\n",
    "  \n",
    "\treturn round(prevR - (lr * prevR), roundTo)\n",
    "\n",
    "def predict(base:float, lr:float, residual:float, roundTo:int = 2, debug:bool = False) -> float:\n",
    "\t\"\"\"\n",
    "\tPredicts the final grade of the student by providing the `base`, `lr` and `residual`.\n",
    "\t\n",
    "\tIf this is the first prediction, then the `base` value should be the average of the `y` values.\n",
    "\tOtherwise, the `base` value should be the previous prediction.\n",
    " \n",
    "\t:param base: The base value.\n",
    "\t:type base: float\n",
    " \n",
    "\t:param lr: The learning rate.\n",
    "\t:type lr: float\n",
    " \n",
    "\t:param residual: The residual value.\n",
    "\t:type residual: float\n",
    " \n",
    "\t:param roundTo: The number of decimal places to round the result to. Default is `2`.\n",
    "\t:type roundTo: int\n",
    " \n",
    "\t:param debug: If set to True, the function will print the values of `base`, `lr` and `residual`. Default is `False`.\n",
    "\t:type debug: bool\n",
    " \n",
    "\t:return float: The predicted final grade of the student.\n",
    "    \"\"\"\n",
    "\tif debug:\n",
    "\t\tprint(f\"base: {base} | lr: {lr} | residual: {residual}\")\n",
    "\n",
    "\treturn round(base + (lr * residual), roundTo)\n",
    "    "
   ]
  },
  {
   "cell_type": "markdown",
   "metadata": {},
   "source": [
    "# Residuals\n",
    "\n",
    "Calculates the residual values depending on its epoch. First epoch ($R_1$) are calculated using the `R1` function as\n",
    "its formula is vastly different from the $R_{n>1}$.\n",
    "\n",
    "$R_{n>1}$ are calculated by using the `RN` function due to its simple $R_{n-1} - (lr \\times R_{n-1})$ formula."
   ]
  },
  {
   "cell_type": "markdown",
   "metadata": {},
   "source": [
    "## $R_1$\n",
    "\n",
    "Calculate the $R_1$ using the `R1` function."
   ]
  },
  {
   "cell_type": "code",
   "execution_count": 13,
   "metadata": {},
   "outputs": [
    {
     "data": {
      "text/plain": [
       "[2.8, 5.97, -11.2, 14.74, -18.78, 10.74, -5.2, -0.03, -15.78, 16.74]"
      ]
     },
     "execution_count": 13,
     "metadata": {},
     "output_type": "execute_result"
    }
   ],
   "source": [
    "r1 = []\n",
    "for i in range(count):\n",
    "    r1.append(R1(final[i], avgFinal[i], psuedoResidual[i]))\n",
    "r1"
   ]
  },
  {
   "cell_type": "code",
   "execution_count": null,
   "metadata": {},
   "outputs": [
    {
     "data": {
      "text/plain": [
       "[14.07, 2.97, -4.53, -17.28]"
      ]
     },
     "execution_count": 14,
     "metadata": {},
     "output_type": "execute_result"
    }
   ],
   "source": [
    "r1Tree = [0, 0, 0, 0]\n",
    "added = [0, 0, 0, 0]\n",
    "\n",
    "for i in range(len(r1)):\n",
    "    index = treeCondition(midterm[i], hours[i], attendance[i])\n",
    "    \n",
    "    r1Tree[index] += round(r1[i], 2)\n",
    "    added[index] += 1\n",
    "    \n",
    "for i in range(len(r1Tree)):\n",
    "    r1Tree[i] = round(r1Tree[i] / added[i], 2)\n",
    "    \n",
    "r1Tree"
   ]
  },
  {
   "cell_type": "markdown",
   "metadata": {},
   "source": [
    "## $R_2$"
   ]
  },
  {
   "cell_type": "code",
   "execution_count": 15,
   "metadata": {},
   "outputs": [
    {
     "data": {
      "text/plain": [
       "[2.52, 5.37, -10.08, 13.27, -16.9, 9.67, -4.68, -0.03, -14.2, 15.07]"
      ]
     },
     "execution_count": 15,
     "metadata": {},
     "output_type": "execute_result"
    }
   ],
   "source": [
    "r2 = []\n",
    "for i in range(count):\n",
    "    r2.append(RN(r1[i], lr))\n",
    "r2"
   ]
  },
  {
   "cell_type": "code",
   "execution_count": 19,
   "metadata": {},
   "outputs": [
    {
     "data": {
      "text/plain": [
       "[12.67, 2.67, -4.08, -15.55]"
      ]
     },
     "execution_count": 19,
     "metadata": {},
     "output_type": "execute_result"
    }
   ],
   "source": [
    "r2Tree = [0, 0, 0, 0]\n",
    "added = [0, 0, 0, 0]\n",
    "\n",
    "for i in range(len(r2)):\n",
    "    index = treeCondition(midterm[i], hours[i], attendance[i])\n",
    "    \n",
    "    r2Tree[index] += round(r2[i], 2)\n",
    "    added[index] += 1\n",
    "    \n",
    "for i in range(len(r2Tree)):\n",
    "    r2Tree[i] = round(r2Tree[i] / added[i], 2)\n",
    "    \n",
    "r2Tree"
   ]
  },
  {
   "cell_type": "markdown",
   "metadata": {},
   "source": [
    "## $R_3$"
   ]
  },
  {
   "cell_type": "code",
   "execution_count": 16,
   "metadata": {},
   "outputs": [
    {
     "data": {
      "text/plain": [
       "[2.27, 4.83, -9.07, 11.94, -15.21, 8.7, -4.21, -0.03, -12.78, 13.56]"
      ]
     },
     "execution_count": 16,
     "metadata": {},
     "output_type": "execute_result"
    }
   ],
   "source": [
    "r3 = []\n",
    "for i in range(count):\n",
    "    r3.append(RN(r2[i], lr))\n",
    "r3"
   ]
  },
  {
   "cell_type": "markdown",
   "metadata": {},
   "source": [
    "# Predictions\n",
    "\n",
    "Calculates the predicted values for the finals using `predict` function."
   ]
  },
  {
   "cell_type": "markdown",
   "metadata": {},
   "source": [
    "## $P_1$"
   ]
  },
  {
   "cell_type": "code",
   "execution_count": 17,
   "metadata": {},
   "outputs": [
    {
     "data": {
      "text/plain": [
       "[75.2, 76.03, 75.2, 77.26, 73.78, 77.26, 75.2, 76.03, 73.78, 77.26]"
      ]
     },
     "execution_count": 17,
     "metadata": {},
     "output_type": "execute_result"
    }
   ],
   "source": [
    "p1 = []\n",
    "for i in range(count):\n",
    "    p1.append(predict(avgFinal[i], lr, psuedoResidual[i]))\n",
    "p1"
   ]
  },
  {
   "cell_type": "markdown",
   "metadata": {},
   "source": [
    "## $P_2$"
   ]
  },
  {
   "cell_type": "code",
   "execution_count": 18,
   "metadata": {},
   "outputs": [
    {
     "data": {
      "text/plain": [
       "[75.48, 76.63, 74.08, 78.73, 71.9, 78.33, 74.68, 76.03, 72.2, 78.93]"
      ]
     },
     "execution_count": 18,
     "metadata": {},
     "output_type": "execute_result"
    }
   ],
   "source": [
    "p2 = []\n",
    "for i in range(count):\n",
    "    p2.append(predict(p1[i], lr, r1[i]))\n",
    "p2"
   ]
  }
 ],
 "metadata": {
  "kernelspec": {
   "display_name": "com222",
   "language": "python",
   "name": "python3"
  },
  "language_info": {
   "codemirror_mode": {
    "name": "ipython",
    "version": 3
   },
   "file_extension": ".py",
   "mimetype": "text/x-python",
   "name": "python",
   "nbconvert_exporter": "python",
   "pygments_lexer": "ipython3",
   "version": "3.12.3"
  }
 },
 "nbformat": 4,
 "nbformat_minor": 2
}
